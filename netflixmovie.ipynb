{
 "cells": [
  {
   "cell_type": "code",
   "execution_count": null,
   "id": "526a5fda-6a91-471d-97f8-a207af5916c8",
   "metadata": {},
   "outputs": [],
   "source": [
    "import zipfile\n",
    "import pandas as pd"
   ]
  },
  {
   "cell_type": "code",
   "execution_count": 41,
   "id": "0b057eb2-6233-4277-bba9-ac89944c0bb1",
   "metadata": {},
   "outputs": [],
   "source": [
    "def load_and_clean_csv_from_zip(zip_path=\"C:\\\\Users\\\\Asus\\\\Downloads\\\\Netflix_movies_and_tv_shows_clustering.csv.zip\", csv_filename=None):\n",
    "    with zipfile.ZipFile(zip_path, 'r') as z:\n",
    "        # Step 2: List all files inside the ZIP\n",
    "        file_list = z.namelist()\n",
    "        print(\"Files in ZIP:\", file_list)\n",
    "\n",
    "        # Step 3: Auto-select CSV if not provided\n",
    "        if csv_filename is None:\n",
    "            csv_files = [f for f in file_list if f.endswith('.csv')]\n",
    "            if not csv_files:\n",
    "                raise ValueError(\"No CSV file found in the ZIP.\")\n",
    "            csv_filename = csv_files[0]  # Use the first CSV file\n",
    "\n",
    "        # Step 4: Read the CSV file\n",
    "        with z.open(csv_filename) as f:\n",
    "            df = pd.read_csv(f)\n",
    "\n",
    "    # Step 5: Clean the dataset\n",
    "    df.drop_duplicates(inplace=True)\n",
    "    df = df.applymap(lambda x: x.strip() if isinstance(x, str) else x)\n",
    "    df.fillna('Unknown', inplace=True)\n",
    "\n",
    "    # Standardize text columns\n",
    "    for col in df.select_dtypes(include='object'):\n",
    "        df[col] = df[col].str.lower()\n",
    "\n",
    "    # Step 6: Return cleaned DataFrame\n",
    "    return df"
   ]
  },
  {
   "cell_type": "code",
   "execution_count": 29,
   "id": "06a4bbdf-076e-47eb-af8e-c9b7bef281ca",
   "metadata": {},
   "outputs": [
    {
     "name": "stdout",
     "output_type": "stream",
     "text": [
      "Files in ZIP: ['Netflix_movies_and_tv_shows_clustering.csv']\n",
      "DataFrame shape: (7787, 12)\n",
      "\n",
      "First 5 rows:\n",
      "  show_id     type  title           director  \\\n",
      "0      s1  tv show     3%            unknown   \n",
      "1      s2    movie   7:19  jorge michel grau   \n",
      "2      s3    movie  23:59       gilbert chan   \n",
      "3      s4    movie      9        shane acker   \n",
      "4      s5    movie     21     robert luketic   \n",
      "\n",
      "                                                cast        country  \\\n",
      "0  joão miguel, bianca comparato, michel gomes, r...         brazil   \n",
      "1  demián bichir, héctor bonilla, oscar serrano, ...         mexico   \n",
      "2  tedd chan, stella chung, henley hii, lawrence ...      singapore   \n",
      "3  elijah wood, john c. reilly, jennifer connelly...  united states   \n",
      "4  jim sturgess, kevin spacey, kate bosworth, aar...  united states   \n",
      "\n",
      "          date_added  release_year rating   duration  \\\n",
      "0    august 14, 2020          2020  tv-ma  4 seasons   \n",
      "1  december 23, 2016          2016  tv-ma     93 min   \n",
      "2  december 20, 2018          2011      r     78 min   \n",
      "3  november 16, 2017          2009  pg-13     80 min   \n",
      "4    january 1, 2020          2008  pg-13    123 min   \n",
      "\n",
      "                                           listed_in  \\\n",
      "0  international tv shows, tv dramas, tv sci-fi &...   \n",
      "1                       dramas, international movies   \n",
      "2                horror movies, international movies   \n",
      "3  action & adventure, independent movies, sci-fi...   \n",
      "4                                             dramas   \n",
      "\n",
      "                                         description  \n",
      "0  in a future where the elite inhabit an island ...  \n",
      "1  after a devastating earthquake hits mexico cit...  \n",
      "2  when an army recruit is found dead, his fellow...  \n",
      "3  in a postapocalyptic world, rag-doll robots hi...  \n",
      "4  a brilliant group of students become card-coun...  \n"
     ]
    },
    {
     "name": "stderr",
     "output_type": "stream",
     "text": [
      "C:\\Users\\Asus\\AppData\\Local\\Temp\\ipykernel_22748\\3537504162.py:24: FutureWarning: DataFrame.applymap has been deprecated. Use DataFrame.map instead.\n",
      "  df = df.applymap(lambda x: x.strip() if isinstance(x, str) else x)\n"
     ]
    }
   ],
   "source": [
    "# Call the function and store the result\n",
    "df = load_and_clean_csv_from_zip()\n",
    "\n",
    "# Print information about the dataframe\n",
    "print(\"DataFrame shape:\", df.shape)\n",
    "print(\"\\nFirst 5 rows:\")\n",
    "print(df.head())"
   ]
  },
  {
   "cell_type": "code",
   "execution_count": null,
   "id": "49af645a-e00f-453b-83d6-7495a3a87b2b",
   "metadata": {},
   "outputs": [],
   "source": []
  }
 ],
 "metadata": {
  "kernelspec": {
   "display_name": "Python 3 (ipykernel)",
   "language": "python",
   "name": "python3"
  },
  "language_info": {
   "codemirror_mode": {
    "name": "ipython",
    "version": 3
   },
   "file_extension": ".py",
   "mimetype": "text/x-python",
   "name": "python",
   "nbconvert_exporter": "python",
   "pygments_lexer": "ipython3",
   "version": "3.12.4"
  }
 },
 "nbformat": 4,
 "nbformat_minor": 5
}
